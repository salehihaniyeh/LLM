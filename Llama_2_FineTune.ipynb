{
  "cells": [
    {
      "cell_type": "markdown",
      "metadata": {
        "id": "view-in-github",
        "colab_type": "text"
      },
      "source": [
        "<a href=\"https://colab.research.google.com/github/salehihaniyeh/LLM/blob/main/Llama_2_FineTune.ipynb\" target=\"_parent\"><img src=\"https://colab.research.google.com/assets/colab-badge.svg\" alt=\"Open In Colab\"/></a>"
      ]
    },
    {
      "cell_type": "code",
      "execution_count": null,
      "metadata": {
        "id": "lh1zJRrG4PTB"
      },
      "outputs": [],
      "source": [
        "!pip install -U autotrain-advanced\n",
        "!pip install -U huggingface_hub"
      ]
    },
    {
      "cell_type": "code",
      "source": [
        "from google.colab import drive\n",
        "drive.mount('/content/drive')"
      ],
      "metadata": {
        "id": "mgLuquuQDcz7"
      },
      "execution_count": null,
      "outputs": []
    },
    {
      "cell_type": "code",
      "execution_count": 1,
      "metadata": {
        "id": "cICS0joT-E_n",
        "colab": {
          "base_uri": "https://localhost:8080/"
        },
        "outputId": "7665254c-97a8-44d3-b118-492176d8c25f"
      },
      "outputs": [
        {
          "output_type": "stream",
          "name": "stdout",
          "text": [
            "\u001b[1mINFO    \u001b[0m | \u001b[32m2024-05-01 21:47:04\u001b[0m | \u001b[36mautotrain.cli.run_setup\u001b[0m:\u001b[36mrun\u001b[0m:\u001b[36m43\u001b[0m - \u001b[1mInstalling latest xformers\u001b[0m\n",
            "\u001b[1mINFO    \u001b[0m | \u001b[32m2024-05-01 21:47:04\u001b[0m | \u001b[36mautotrain.cli.run_setup\u001b[0m:\u001b[36mrun\u001b[0m:\u001b[36m45\u001b[0m - \u001b[1mSuccessfully installed latest xformers\u001b[0m\n",
            "\u001b[1mINFO    \u001b[0m | \u001b[32m2024-05-01 21:47:04\u001b[0m | \u001b[36mautotrain.cli.run_setup\u001b[0m:\u001b[36mrun\u001b[0m:\u001b[36m51\u001b[0m - \u001b[1mInstalling latest PyTorch\u001b[0m\n",
            "\u001b[1mINFO    \u001b[0m | \u001b[32m2024-05-01 21:47:10\u001b[0m | \u001b[36mautotrain.cli.run_setup\u001b[0m:\u001b[36mrun\u001b[0m:\u001b[36m53\u001b[0m - \u001b[1mSuccessfully installed latest PyTorch\u001b[0m\n"
          ]
        }
      ],
      "source": [
        "!autotrain setup --update-torch"
      ]
    },
    {
      "cell_type": "code",
      "execution_count": null,
      "metadata": {
        "id": "LdxqoFcr-SDp"
      },
      "outputs": [],
      "source": [
        "from huggingface_hub import notebook_login\n",
        "notebook_login()"
      ]
    },
    {
      "cell_type": "code",
      "execution_count": null,
      "metadata": {
        "id": "UEIrfEWyHhFQ"
      },
      "outputs": [],
      "source": [
        "!autotrain llm --train\\\n",
        "--project-name 'Apple-Issue-Prompt'\\\n",
        "--model TinyPixel/Llama-2-7B-bf16-sharded\\\n",
        "--data-path .\\\n",
        "--text-column text\\\n",
        "--use-peft\\\n",
        "--quantization int4 \\\n",
        "--lr 2e-4\\\n",
        "--train-batch-size 4\\\n",
        "--epochs 8\\\n",
        "--trainer sft > training.log &"
      ]
    },
    {
      "cell_type": "code",
      "source": [
        "import re\n",
        "\n",
        "def extract_train_loss(log_file):\n",
        "    \"\"\"\n",
        "    Extracts the training loss from the given log file.\n",
        "\n",
        "    Args:\n",
        "        log_file (str): Path to the log file.\n",
        "\n",
        "    Returns:\n",
        "        list: List of training loss values.\n",
        "    \"\"\"\n",
        "    train_loss_values = []\n",
        "    with open(log_file, 'r') as file:\n",
        "        for line in file:\n",
        "            match = re.search(r\"'train_loss': (\\d+\\.\\d+)\", line)\n",
        "            if match:\n",
        "                train_loss = float(match.group(1))\n",
        "                train_loss_values.append(train_loss)\n",
        "    return train_loss_values\n",
        "\n",
        "# Example usage:\n",
        "log_file_path = 'training.log'\n",
        "train_loss_values = extract_train_loss(log_file_path)\n",
        "print(\"Training Loss Values:\", float(train_loss_values[0]))"
      ],
      "metadata": {
        "colab": {
          "base_uri": "https://localhost:8080/"
        },
        "id": "bidnDCTT3TWy",
        "outputId": "12e10578-7576-41d6-e241-687200b9807c"
      },
      "execution_count": 4,
      "outputs": [
        {
          "output_type": "stream",
          "name": "stdout",
          "text": [
            "Training Loss Values: 0.4917277991771698\n"
          ]
        }
      ]
    },
    {
      "cell_type": "code",
      "source": [
        "import subprocess\n",
        "\n",
        "# Define range of epochs to iterate through\n",
        "min_epochs = 10\n",
        "max_epochs = 21\n",
        "\n",
        "# Dictionary to store training loss for each epoch\n",
        "training_loss = {}\n",
        "\n",
        "# Iterate through epochs\n",
        "for epoch in range(min_epochs, max_epochs , 5):\n",
        "    # Construct command with current number of epochs\n",
        "    !autotrain llm --train\\\n",
        "    --project-name 'Apple-Issue-Prompt'\\\n",
        "    --model TinyPixel/Llama-2-7B-bf16-sharded\\\n",
        "    --data-path .\\\n",
        "    --text-column text\\\n",
        "    --use-peft\\\n",
        "    --quantization int4 \\\n",
        "    --lr 2e-4\\\n",
        "    --train-batch-size 4\\\n",
        "    --epochs {epoch}\\\n",
        "    --trainer sft > training.log &\n",
        "\n",
        "    training_loss[epoch] = extract_train_loss('training.log')\n",
        "\n",
        "print(f\"Optimal number of epochs: {training_loss[0]}\")"
      ],
      "metadata": {
        "id": "7Y-PXVAQ14qZ"
      },
      "execution_count": null,
      "outputs": []
    },
    {
      "cell_type": "code",
      "execution_count": null,
      "metadata": {
        "id": "dnUS37maNlrH"
      },
      "outputs": [],
      "source": [
        "!autotrain llm  --help"
      ]
    },
    {
      "cell_type": "code",
      "execution_count": 1,
      "metadata": {
        "colab": {
          "base_uri": "https://localhost:8080/",
          "height": 173,
          "referenced_widgets": [
            "1b76873b2d71428195139312b1d5d428",
            "6908da8d1e8c489f869d8dceb805def8",
            "d07b4cc0ad1d42adae742cd17d744abf",
            "67db9a1af26b45c9a3c0427e504f6637",
            "32a6d2cd5da64c3c9b4a14d4808576e5",
            "d8f2e45c2a1b40f59f28bf602d41238a",
            "5e396a5f3f6f456bb53101458a6123bc",
            "56bcf7e186e943ca875470f8436532f0",
            "515a5eb0ef4e43509265696e4c8c6fa1",
            "f44111ae17494f6097c9f80adc5f7fab",
            "3e2e90b035534a9ea298bf504af12141"
          ]
        },
        "id": "2i_A-uX5D9GX",
        "outputId": "e4665dba-37df-4296-d463-93a3b42fe154"
      },
      "outputs": [
        {
          "output_type": "display_data",
          "data": {
            "text/plain": [
              "Loading checkpoint shards:   0%|          | 0/14 [00:00<?, ?it/s]"
            ],
            "application/vnd.jupyter.widget-view+json": {
              "version_major": 2,
              "version_minor": 0,
              "model_id": "1b76873b2d71428195139312b1d5d428"
            }
          },
          "metadata": {}
        },
        {
          "output_type": "stream",
          "name": "stdout",
          "text": [
            "\n",
            "###Human:\n",
            "Generate a detailed description prompt for apple watch screen blinking.\n",
            "\n",
            "###Assistant:\n",
            "Customer's Apple Watch Series 5 purchased in November 2021 is experiencing the screen blinking randomly. They reside in Richmond and have Xfinity as their internet provider. They have tried restarting the watch and updating to the latest software, but the issue persists.\n"
          ]
        }
      ],
      "source": [
        "import peft\n",
        "import torch\n",
        "from transformers import AutoModelForCausalLM, AutoTokenizer\n",
        "from torch.nn import DataParallel\n",
        "\n",
        "tokenizer = AutoTokenizer.from_pretrained(\"/content/Apple-Issue-Prompt\")\n",
        "model = AutoModelForCausalLM.from_pretrained(\"/content/Apple-Issue-Prompt\")\n",
        "\n",
        "\n",
        "\n",
        "input_context = '''\n",
        "###Human:\n",
        "Generate a detailed description prompt for apple watch screen blinking.\n",
        "\n",
        "###Assistant:\n",
        "'''\n",
        "input_ids = tokenizer.encode(input_context, return_tensors=\"pt\")\n",
        "output = model.generate(input_ids, min_length = 80, max_length=120, do_sample=True, temperature=0.3, num_return_sequences=1)\n",
        "generated_text = tokenizer.decode(output[0], skip_special_tokens=True)\n",
        "print(generated_text)\n"
      ]
    },
    {
      "cell_type": "code",
      "source": [
        "input_context = '''\n",
        "###Human:\n",
        "Generate a detailed description prompt for icloud on macbook is not syncing.\n",
        "\n",
        "###Assistant:\n",
        "'''\n",
        "input_ids = tokenizer.encode(input_context, return_tensors=\"pt\")\n",
        "output = model.generate(input_ids, min_length = 80, max_length=120, do_sample=True, temperature=0.3, num_return_sequences=1)\n",
        "generated_text = tokenizer.decode(output[0], skip_special_tokens=True)\n",
        "print(generated_text)"
      ],
      "metadata": {
        "colab": {
          "base_uri": "https://localhost:8080/"
        },
        "id": "I-NfrxjuXfkC",
        "outputId": "5e0609e5-129c-4262-d673-9337e74f5abb"
      },
      "execution_count": 2,
      "outputs": [
        {
          "output_type": "stream",
          "name": "stdout",
          "text": [
            "\n",
            "###Human:\n",
            "Generate a detailed description prompt for icloud on macbook is not syncing.\n",
            "\n",
            "###Assistant:\n",
            "Customer's iCloud on their MacBook Pro 13-inch purchased in July 2021 is not syncing. They are located in Honolulu and have Hawaiian Telcom as their internet provider. They have tried signing out and back into iCloud, but the issue persists.\n"
          ]
        }
      ]
    }
  ],
  "metadata": {
    "accelerator": "GPU",
    "colab": {
      "gpuType": "T4",
      "machine_shape": "hm",
      "provenance": [],
      "mount_file_id": "1OGzkANEkNzUmDA-21QI1zEu-BYcZxCA8",
      "authorship_tag": "ABX9TyPuH1W3Pz1nNEGvdB8vIw8w",
      "include_colab_link": true
    },
    "kernelspec": {
      "display_name": "Python 3",
      "name": "python3"
    },
    "language_info": {
      "name": "python"
    },
    "widgets": {
      "application/vnd.jupyter.widget-state+json": {
        "1b76873b2d71428195139312b1d5d428": {
          "model_module": "@jupyter-widgets/controls",
          "model_name": "HBoxModel",
          "model_module_version": "1.5.0",
          "state": {
            "_dom_classes": [],
            "_model_module": "@jupyter-widgets/controls",
            "_model_module_version": "1.5.0",
            "_model_name": "HBoxModel",
            "_view_count": null,
            "_view_module": "@jupyter-widgets/controls",
            "_view_module_version": "1.5.0",
            "_view_name": "HBoxView",
            "box_style": "",
            "children": [
              "IPY_MODEL_6908da8d1e8c489f869d8dceb805def8",
              "IPY_MODEL_d07b4cc0ad1d42adae742cd17d744abf",
              "IPY_MODEL_67db9a1af26b45c9a3c0427e504f6637"
            ],
            "layout": "IPY_MODEL_32a6d2cd5da64c3c9b4a14d4808576e5"
          }
        },
        "6908da8d1e8c489f869d8dceb805def8": {
          "model_module": "@jupyter-widgets/controls",
          "model_name": "HTMLModel",
          "model_module_version": "1.5.0",
          "state": {
            "_dom_classes": [],
            "_model_module": "@jupyter-widgets/controls",
            "_model_module_version": "1.5.0",
            "_model_name": "HTMLModel",
            "_view_count": null,
            "_view_module": "@jupyter-widgets/controls",
            "_view_module_version": "1.5.0",
            "_view_name": "HTMLView",
            "description": "",
            "description_tooltip": null,
            "layout": "IPY_MODEL_d8f2e45c2a1b40f59f28bf602d41238a",
            "placeholder": "​",
            "style": "IPY_MODEL_5e396a5f3f6f456bb53101458a6123bc",
            "value": "Loading checkpoint shards: 100%"
          }
        },
        "d07b4cc0ad1d42adae742cd17d744abf": {
          "model_module": "@jupyter-widgets/controls",
          "model_name": "FloatProgressModel",
          "model_module_version": "1.5.0",
          "state": {
            "_dom_classes": [],
            "_model_module": "@jupyter-widgets/controls",
            "_model_module_version": "1.5.0",
            "_model_name": "FloatProgressModel",
            "_view_count": null,
            "_view_module": "@jupyter-widgets/controls",
            "_view_module_version": "1.5.0",
            "_view_name": "ProgressView",
            "bar_style": "success",
            "description": "",
            "description_tooltip": null,
            "layout": "IPY_MODEL_56bcf7e186e943ca875470f8436532f0",
            "max": 14,
            "min": 0,
            "orientation": "horizontal",
            "style": "IPY_MODEL_515a5eb0ef4e43509265696e4c8c6fa1",
            "value": 14
          }
        },
        "67db9a1af26b45c9a3c0427e504f6637": {
          "model_module": "@jupyter-widgets/controls",
          "model_name": "HTMLModel",
          "model_module_version": "1.5.0",
          "state": {
            "_dom_classes": [],
            "_model_module": "@jupyter-widgets/controls",
            "_model_module_version": "1.5.0",
            "_model_name": "HTMLModel",
            "_view_count": null,
            "_view_module": "@jupyter-widgets/controls",
            "_view_module_version": "1.5.0",
            "_view_name": "HTMLView",
            "description": "",
            "description_tooltip": null,
            "layout": "IPY_MODEL_f44111ae17494f6097c9f80adc5f7fab",
            "placeholder": "​",
            "style": "IPY_MODEL_3e2e90b035534a9ea298bf504af12141",
            "value": " 14/14 [00:08&lt;00:00,  1.59it/s]"
          }
        },
        "32a6d2cd5da64c3c9b4a14d4808576e5": {
          "model_module": "@jupyter-widgets/base",
          "model_name": "LayoutModel",
          "model_module_version": "1.2.0",
          "state": {
            "_model_module": "@jupyter-widgets/base",
            "_model_module_version": "1.2.0",
            "_model_name": "LayoutModel",
            "_view_count": null,
            "_view_module": "@jupyter-widgets/base",
            "_view_module_version": "1.2.0",
            "_view_name": "LayoutView",
            "align_content": null,
            "align_items": null,
            "align_self": null,
            "border": null,
            "bottom": null,
            "display": null,
            "flex": null,
            "flex_flow": null,
            "grid_area": null,
            "grid_auto_columns": null,
            "grid_auto_flow": null,
            "grid_auto_rows": null,
            "grid_column": null,
            "grid_gap": null,
            "grid_row": null,
            "grid_template_areas": null,
            "grid_template_columns": null,
            "grid_template_rows": null,
            "height": null,
            "justify_content": null,
            "justify_items": null,
            "left": null,
            "margin": null,
            "max_height": null,
            "max_width": null,
            "min_height": null,
            "min_width": null,
            "object_fit": null,
            "object_position": null,
            "order": null,
            "overflow": null,
            "overflow_x": null,
            "overflow_y": null,
            "padding": null,
            "right": null,
            "top": null,
            "visibility": null,
            "width": null
          }
        },
        "d8f2e45c2a1b40f59f28bf602d41238a": {
          "model_module": "@jupyter-widgets/base",
          "model_name": "LayoutModel",
          "model_module_version": "1.2.0",
          "state": {
            "_model_module": "@jupyter-widgets/base",
            "_model_module_version": "1.2.0",
            "_model_name": "LayoutModel",
            "_view_count": null,
            "_view_module": "@jupyter-widgets/base",
            "_view_module_version": "1.2.0",
            "_view_name": "LayoutView",
            "align_content": null,
            "align_items": null,
            "align_self": null,
            "border": null,
            "bottom": null,
            "display": null,
            "flex": null,
            "flex_flow": null,
            "grid_area": null,
            "grid_auto_columns": null,
            "grid_auto_flow": null,
            "grid_auto_rows": null,
            "grid_column": null,
            "grid_gap": null,
            "grid_row": null,
            "grid_template_areas": null,
            "grid_template_columns": null,
            "grid_template_rows": null,
            "height": null,
            "justify_content": null,
            "justify_items": null,
            "left": null,
            "margin": null,
            "max_height": null,
            "max_width": null,
            "min_height": null,
            "min_width": null,
            "object_fit": null,
            "object_position": null,
            "order": null,
            "overflow": null,
            "overflow_x": null,
            "overflow_y": null,
            "padding": null,
            "right": null,
            "top": null,
            "visibility": null,
            "width": null
          }
        },
        "5e396a5f3f6f456bb53101458a6123bc": {
          "model_module": "@jupyter-widgets/controls",
          "model_name": "DescriptionStyleModel",
          "model_module_version": "1.5.0",
          "state": {
            "_model_module": "@jupyter-widgets/controls",
            "_model_module_version": "1.5.0",
            "_model_name": "DescriptionStyleModel",
            "_view_count": null,
            "_view_module": "@jupyter-widgets/base",
            "_view_module_version": "1.2.0",
            "_view_name": "StyleView",
            "description_width": ""
          }
        },
        "56bcf7e186e943ca875470f8436532f0": {
          "model_module": "@jupyter-widgets/base",
          "model_name": "LayoutModel",
          "model_module_version": "1.2.0",
          "state": {
            "_model_module": "@jupyter-widgets/base",
            "_model_module_version": "1.2.0",
            "_model_name": "LayoutModel",
            "_view_count": null,
            "_view_module": "@jupyter-widgets/base",
            "_view_module_version": "1.2.0",
            "_view_name": "LayoutView",
            "align_content": null,
            "align_items": null,
            "align_self": null,
            "border": null,
            "bottom": null,
            "display": null,
            "flex": null,
            "flex_flow": null,
            "grid_area": null,
            "grid_auto_columns": null,
            "grid_auto_flow": null,
            "grid_auto_rows": null,
            "grid_column": null,
            "grid_gap": null,
            "grid_row": null,
            "grid_template_areas": null,
            "grid_template_columns": null,
            "grid_template_rows": null,
            "height": null,
            "justify_content": null,
            "justify_items": null,
            "left": null,
            "margin": null,
            "max_height": null,
            "max_width": null,
            "min_height": null,
            "min_width": null,
            "object_fit": null,
            "object_position": null,
            "order": null,
            "overflow": null,
            "overflow_x": null,
            "overflow_y": null,
            "padding": null,
            "right": null,
            "top": null,
            "visibility": null,
            "width": null
          }
        },
        "515a5eb0ef4e43509265696e4c8c6fa1": {
          "model_module": "@jupyter-widgets/controls",
          "model_name": "ProgressStyleModel",
          "model_module_version": "1.5.0",
          "state": {
            "_model_module": "@jupyter-widgets/controls",
            "_model_module_version": "1.5.0",
            "_model_name": "ProgressStyleModel",
            "_view_count": null,
            "_view_module": "@jupyter-widgets/base",
            "_view_module_version": "1.2.0",
            "_view_name": "StyleView",
            "bar_color": null,
            "description_width": ""
          }
        },
        "f44111ae17494f6097c9f80adc5f7fab": {
          "model_module": "@jupyter-widgets/base",
          "model_name": "LayoutModel",
          "model_module_version": "1.2.0",
          "state": {
            "_model_module": "@jupyter-widgets/base",
            "_model_module_version": "1.2.0",
            "_model_name": "LayoutModel",
            "_view_count": null,
            "_view_module": "@jupyter-widgets/base",
            "_view_module_version": "1.2.0",
            "_view_name": "LayoutView",
            "align_content": null,
            "align_items": null,
            "align_self": null,
            "border": null,
            "bottom": null,
            "display": null,
            "flex": null,
            "flex_flow": null,
            "grid_area": null,
            "grid_auto_columns": null,
            "grid_auto_flow": null,
            "grid_auto_rows": null,
            "grid_column": null,
            "grid_gap": null,
            "grid_row": null,
            "grid_template_areas": null,
            "grid_template_columns": null,
            "grid_template_rows": null,
            "height": null,
            "justify_content": null,
            "justify_items": null,
            "left": null,
            "margin": null,
            "max_height": null,
            "max_width": null,
            "min_height": null,
            "min_width": null,
            "object_fit": null,
            "object_position": null,
            "order": null,
            "overflow": null,
            "overflow_x": null,
            "overflow_y": null,
            "padding": null,
            "right": null,
            "top": null,
            "visibility": null,
            "width": null
          }
        },
        "3e2e90b035534a9ea298bf504af12141": {
          "model_module": "@jupyter-widgets/controls",
          "model_name": "DescriptionStyleModel",
          "model_module_version": "1.5.0",
          "state": {
            "_model_module": "@jupyter-widgets/controls",
            "_model_module_version": "1.5.0",
            "_model_name": "DescriptionStyleModel",
            "_view_count": null,
            "_view_module": "@jupyter-widgets/base",
            "_view_module_version": "1.2.0",
            "_view_name": "StyleView",
            "description_width": ""
          }
        }
      }
    }
  },
  "nbformat": 4,
  "nbformat_minor": 0
}